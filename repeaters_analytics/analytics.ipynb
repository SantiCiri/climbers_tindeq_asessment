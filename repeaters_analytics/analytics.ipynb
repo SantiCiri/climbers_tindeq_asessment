{
 "cells": [
  {
   "cell_type": "code",
   "execution_count": 3,
   "metadata": {},
   "outputs": [],
   "source": [
    "import pandas as pd\n",
    "import re"
   ]
  },
  {
   "cell_type": "code",
   "execution_count": 5,
   "metadata": {},
   "outputs": [
    {
     "name": "stdout",
     "output_type": "stream",
     "text": [
      "rot_ext\n",
      "rot-ext-der\n",
      "flex_dedo\n",
      "flex-dedo-der\n",
      "rot_int\n",
      "rot-int-der\n",
      "rot_int\n",
      "rot-int-izq\n",
      "rot_ext\n",
      "rot-ext-izq\n",
      "flex_dedo\n",
      "flex-dedo-izq\n"
     ]
    }
   ],
   "source": [
    "repeaters_path=['/home/santiago/Desktop/tindeq20/36946123/24_05_2023/rot-ext-der/repeaters.csv', \n",
    "                '/home/santiago/Desktop/tindeq20/36946123/24_05_2023/flex-dedo-der/repeaters.csv', \n",
    "                '/home/santiago/Desktop/tindeq20/36946123/24_05_2023/rot-int-der/repeaters.csv', \n",
    "                '/home/santiago/Desktop/tindeq20/36946123/24_05_2023/rot-int-izq/repeaters.csv', \n",
    "                '/home/santiago/Desktop/tindeq20/36946123/24_05_2023/rot-ext-izq/repeaters.csv', \n",
    "                '/home/santiago/Desktop/tindeq20/36946123/24_05_2023/flex-dedo-izq/repeaters.csv']\n",
    "\n",
    "for path in repeaters_path:\n",
    "    #define the regex pattern to extract the exercise name (without the evaluated side)\n",
    "    exercise_code_pattern = r'/([^/]+)-(der|izq)/'\n",
    "    exercise_side_pattern= r'/(?P<desired_string>[^/]+)/[^/]+$'\n",
    "    #check if there is a match in the df_path (checking if the path and csv exist) and extracting the exercise's name\n",
    "    match_exercise_code = re.search(exercise_code_pattern, path)\n",
    "    match_exercise_side = re.search(exercise_side_pattern, path)\n",
    "    if match_exercise_code:\n",
    "        #save the exercise's name into variable exercise_code\n",
    "        exercise_code = match_exercise_code.group(1).replace(\"-\", \"_\")\n",
    "        exercise_side=match_exercise_side.group(1)\n",
    "        #and build the pandas df\n",
    "        #df = pd.read_csv(path)\n",
    "        print(exercise_code)\n",
    "        print(exercise_side)\n",
    "\n"
   ]
  }
 ],
 "metadata": {
  "kernelspec": {
   "display_name": "tindeq_env",
   "language": "python",
   "name": "python3"
  },
  "language_info": {
   "codemirror_mode": {
    "name": "ipython",
    "version": 3
   },
   "file_extension": ".py",
   "mimetype": "text/x-python",
   "name": "python",
   "nbconvert_exporter": "python",
   "pygments_lexer": "ipython3",
   "version": "3.9.7"
  },
  "orig_nbformat": 4
 },
 "nbformat": 4,
 "nbformat_minor": 2
}
