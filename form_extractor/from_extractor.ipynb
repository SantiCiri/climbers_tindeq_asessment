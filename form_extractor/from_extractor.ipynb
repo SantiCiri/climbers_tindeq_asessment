{
 "cells": [
  {
   "cell_type": "code",
   "execution_count": 1,
   "metadata": {},
   "outputs": [
    {
     "ename": "ModuleNotFoundError",
     "evalue": "No module named 'pandas'",
     "output_type": "error",
     "traceback": [
      "\u001b[0;31m---------------------------------------------------------------------------\u001b[0m",
      "\u001b[0;31mModuleNotFoundError\u001b[0m                       Traceback (most recent call last)",
      "Cell \u001b[0;32mIn[1], line 1\u001b[0m\n\u001b[0;32m----> 1\u001b[0m \u001b[39mimport\u001b[39;00m \u001b[39mpandas\u001b[39;00m \u001b[39mas\u001b[39;00m \u001b[39mpd\u001b[39;00m\n\u001b[1;32m      2\u001b[0m pd\u001b[39m.\u001b[39mset_option(\u001b[39m'\u001b[39m\u001b[39mdisplay.max_columns\u001b[39m\u001b[39m'\u001b[39m, \u001b[39mNone\u001b[39;00m)\n",
      "\u001b[0;31mModuleNotFoundError\u001b[0m: No module named 'pandas'"
     ]
    }
   ],
   "source": [
    "import pandas as pd\n",
    "pd.set_option('display.max_columns', None)"
   ]
  },
  {
   "cell_type": "code",
   "execution_count": 103,
   "metadata": {},
   "outputs": [],
   "source": [
    "dnis=[28604911,33868126,36170054,26844533]\n",
    "date1=\"09/06/2023\"\n",
    "date2=\"15/06/2023\""
   ]
  },
  {
   "cell_type": "code",
   "execution_count": 104,
   "metadata": {},
   "outputs": [],
   "source": [
    "def panditas(dni,date1,date2):\n",
    "    df=pd.read_csv(\"/home/santiago/Desktop/tindeq20/evaluacion_leo_mirri.csv\")\n",
    "    #Drops unnamed columns\n",
    "    df = df.loc[:, ~df.columns.str.contains('^Unnamed')]\n",
    "    # Convert the datetime column to \"dd/mm/yyyy\" format\n",
    "    df['Marca temporal'] = pd.to_datetime(df['Marca temporal'], format='%d/%m/%Y %H:%M:%S').dt.strftime('%d/%m/%Y')\n",
    "    # Filter the DataFrame based on the date range\n",
    "    df= df[df['Marca temporal'].between(date1, date2)]\n",
    "    #Keep only desired DNI\n",
    "    df=df[df['DNI (solo numeros)'].isin([dni])]\n",
    "    #Rename columns to friendly names\n",
    "    df.rename(columns={\"Marca temporal\":\"Fecha\",\n",
    "                    \"Qué tan cansado estas ahora de 1 a 10?\":\"Cansancio por autopercepción de 1 a 10\",\n",
    "                    \"Cuántas veces por semana entrenas físico?\":\"Entrenamiento físico (días/semana)\",\n",
    "                    \"Años escalando (solo numeros)\":\"Años escalando\",\n",
    "                    \"Brazo y Pierna dominante [dominante]\":\"Brazo y Pierna dominante\",\n",
    "                    \"DNI (solo numeros)\":\"DNI\",\n",
    "                    \"Tomas medicacion? \":\"Toma de medicación\",\n",
    "                    \"Seguís plan nutricional?\":\"Acompañamiento nutricional\",\n",
    "                    \"Edad (solo numeros)\":\"Edad\",\n",
    "                    \"Altura en centimetros (solo numeros)\":\"Altura (cm)\",\n",
    "                    \"Historial deportivo (desarrollar)\":\"Historial Deportivo\",\n",
    "                    \"Grado Boulder (solo numeros)\":\"Grado Boulder\",\n",
    "                    \"Grado Depo (1 numero, 1 letra y + opcional)\":\"Grado Depo\",\n",
    "                    \"Te hiciste estudios de la lesión? caso afirmativo, redactar el diagnostico\":\"Estudios de lesión\",\n",
    "                    \"Longitud de bazos en centimetros (solo numeros)\":\"Longitud de bazos (cm)\",\n",
    "                    \"Alguna enfermedad a mencionar\":\"Enfermedades\",\n",
    "                    \"Tomas medicacion?\":\"Toma de medicación\",\n",
    "                    \"Observacion de la flexion y extension de columna de pie (en el caso que se pueda realizar) [Flexion]\":\"Observacion de la flexion y extension de columna de pie [Flexion]\",\n",
    "                    \"Observacion de la flexion y extension de columna de pie (en el caso que se pueda realizar) [Extension]\":\"Observacion de la flexion y extension de columna de pie [Extension]\",\n",
    "                    \"bruxismo? \":\"Bruxismo\",\n",
    "                    \"contar acerca de la lesion\":\"Detalle de lesión\"}, inplace=True)\n",
    "    #Change cols to rows\n",
    "    df=df.transpose().reset_index()\n",
    "    df.rename(columns={\"Marca temporal\":\"Fecha\"}, inplace=True)\n",
    "    # Concatenate all columns (excluding the first column) into a new column to handle evaluations in different dates\n",
    "    df['Concepto'] = df.astype(str).iloc[:, 1:].apply(' '.join, axis=1)\n",
    "    df=df[[\"index\",\"Concepto\"]]\n",
    "    df=df[~df['Concepto'].isin([\"nan\"])]\n",
    "    return df"
   ]
  },
  {
   "cell_type": "code",
   "execution_count": 121,
   "metadata": {},
   "outputs": [
    {
     "name": "stdout",
     "output_type": "stream",
     "text": [
      "uno\n",
      "28604911\n",
      "33868126\n",
      "36170054\n",
      "26844533\n"
     ]
    }
   ],
   "source": [
    "dfs=[]\n",
    "for dni in dnis:\n",
    "    df=panditas(dni,date1,date2)\n",
    "    dfs.append(df)\n",
    "nombres=[\"28604911\",\"33868126\",\"36170054\",\"26844533\"]\n",
    "excel_file_path=\"/home/santiago/Desktop/tindeq20/form_extractor/test.xlsx\"\n",
    "i=0\n",
    "print(\"uno\")\n",
    "for df in dfs:\n",
    "    print(nombres[i])\n",
    "    with pd.ExcelWriter(excel_file_path, mode=\"a\", engine=\"openpyxl\") as writer:\n",
    "        df.to_excel(writer, sheet_name=nombres[i])\n",
    "    i=i+1\n"
   ]
  },
  {
   "cell_type": "code",
   "execution_count": 111,
   "metadata": {},
   "outputs": [
    {
     "data": {
      "text/html": [
       "<div>\n",
       "<style scoped>\n",
       "    .dataframe tbody tr th:only-of-type {\n",
       "        vertical-align: middle;\n",
       "    }\n",
       "\n",
       "    .dataframe tbody tr th {\n",
       "        vertical-align: top;\n",
       "    }\n",
       "\n",
       "    .dataframe thead th {\n",
       "        text-align: right;\n",
       "    }\n",
       "</style>\n",
       "<table border=\"1\" class=\"dataframe\">\n",
       "  <thead>\n",
       "    <tr style=\"text-align: right;\">\n",
       "      <th></th>\n",
       "      <th>index</th>\n",
       "      <th>Concepto</th>\n",
       "    </tr>\n",
       "  </thead>\n",
       "  <tbody>\n",
       "    <tr>\n",
       "      <th>0</th>\n",
       "      <td>Fecha</td>\n",
       "      <td>11/06/2023</td>\n",
       "    </tr>\n",
       "    <tr>\n",
       "      <th>1</th>\n",
       "      <td>DNI</td>\n",
       "      <td>33868126.0</td>\n",
       "    </tr>\n",
       "    <tr>\n",
       "      <th>2</th>\n",
       "      <td>Nombre y Apellido</td>\n",
       "      <td>gino cingolani trucco</td>\n",
       "    </tr>\n",
       "    <tr>\n",
       "      <th>3</th>\n",
       "      <td>Edad</td>\n",
       "      <td>34.0</td>\n",
       "    </tr>\n",
       "    <tr>\n",
       "      <th>4</th>\n",
       "      <td>Sexo</td>\n",
       "      <td>Masculino</td>\n",
       "    </tr>\n",
       "    <tr>\n",
       "      <th>...</th>\n",
       "      <td>...</td>\n",
       "      <td>...</td>\n",
       "    </tr>\n",
       "    <tr>\n",
       "      <th>175</th>\n",
       "      <td>Test Apley  Maniobra para explorar la movilida...</td>\n",
       "      <td>4 libre</td>\n",
       "    </tr>\n",
       "    <tr>\n",
       "      <th>176</th>\n",
       "      <td>Detalle de lesión</td>\n",
       "      <td>No tiene lesiones</td>\n",
       "    </tr>\n",
       "    <tr>\n",
       "      <th>177</th>\n",
       "      <td>una semana tipica (solo horarios fijos)</td>\n",
       "      <td>lunes a viernes de 10 a 18</td>\n",
       "    </tr>\n",
       "    <tr>\n",
       "      <th>185</th>\n",
       "      <td>medio de transporte (desarrollar)</td>\n",
       "      <td>bici, auto, moto</td>\n",
       "    </tr>\n",
       "    <tr>\n",
       "      <th>186</th>\n",
       "      <td>Años escalando</td>\n",
       "      <td>0.0</td>\n",
       "    </tr>\n",
       "  </tbody>\n",
       "</table>\n",
       "<p>115 rows × 2 columns</p>\n",
       "</div>"
      ],
      "text/plain": [
       "                                                 index   \n",
       "0                                                Fecha  \\\n",
       "1                                                  DNI   \n",
       "2                                    Nombre y Apellido   \n",
       "3                                                 Edad   \n",
       "4                                                 Sexo   \n",
       "..                                                 ...   \n",
       "175  Test Apley  Maniobra para explorar la movilida...   \n",
       "176                                  Detalle de lesión   \n",
       "177            una semana tipica (solo horarios fijos)   \n",
       "185                  medio de transporte (desarrollar)   \n",
       "186                                     Años escalando   \n",
       "\n",
       "                       Concepto  \n",
       "0                    11/06/2023  \n",
       "1                    33868126.0  \n",
       "2         gino cingolani trucco  \n",
       "3                          34.0  \n",
       "4                     Masculino  \n",
       "..                          ...  \n",
       "175                     4 libre  \n",
       "176          No tiene lesiones   \n",
       "177  lunes a viernes de 10 a 18  \n",
       "185            bici, auto, moto  \n",
       "186                         0.0  \n",
       "\n",
       "[115 rows x 2 columns]"
      ]
     },
     "execution_count": 111,
     "metadata": {},
     "output_type": "execute_result"
    }
   ],
   "source": [
    "dfs[1]"
   ]
  },
  {
   "cell_type": "code",
   "execution_count": 93,
   "metadata": {},
   "outputs": [],
   "source": [
    "df.to_csv(\"test.csv\")"
   ]
  },
  {
   "cell_type": "code",
   "execution_count": null,
   "metadata": {},
   "outputs": [],
   "source": []
  },
  {
   "cell_type": "code",
   "execution_count": null,
   "metadata": {},
   "outputs": [],
   "source": []
  }
 ],
 "metadata": {
  "kernelspec": {
   "display_name": "base",
   "language": "python",
   "name": "python3"
  },
  "language_info": {
   "codemirror_mode": {
    "name": "ipython",
    "version": 3
   },
   "file_extension": ".py",
   "mimetype": "text/x-python",
   "name": "python",
   "nbconvert_exporter": "python",
   "pygments_lexer": "ipython3",
   "version": "3.9.7"
  },
  "orig_nbformat": 4
 },
 "nbformat": 4,
 "nbformat_minor": 2
}
