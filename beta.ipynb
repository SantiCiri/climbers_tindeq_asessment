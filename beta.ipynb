{
 "cells": [
  {
   "cell_type": "code",
   "execution_count": 1,
   "metadata": {},
   "outputs": [],
   "source": [
    "from sklearn.linear_model import LinearRegression\n",
    "from sklearn.preprocessing import PolynomialFeatures\n",
    "import plotly.graph_objs as go\n",
    "import plotly.subplots as sp\n",
    "import plotly.express as px\n",
    "import pandas as pd\n",
    "import numpy as np\n",
    "import os\n",
    "import re\n",
    "import glob\n",
    "from datetime import datetime, timedelta\n",
    "import logging\n",
    "logging.basicConfig(level=logging.INFO,filename=\"logs.log\",filemode=\"a\")"
   ]
  },
  {
   "cell_type": "code",
   "execution_count": 12,
   "metadata": {},
   "outputs": [
    {
     "data": {
      "text/plain": [
       "{'Marca temporal': Timestamp('2023-09-23 17:27:56'),\n",
       " 'Dirección de correo electrónico': 'cirigliano.santiago@gmail.com',\n",
       " 'DNI': 36946123,\n",
       " 'Nombre': 'Santiago',\n",
       " 'Apellido': 'Cirigliano',\n",
       " 'Fecha de Nacimiento': '11/11/1992',\n",
       " 'Altura en cm': 173,\n",
       " 'Estilo preferido': 'Deportiva',\n",
       " 'Grado IRCRA a vista': '6b',\n",
       " 'Grado IRCRA ensayado': '7a',\n",
       " 'Dominada maxima (kg incluyendo peso corporal)': 80,\n",
       " 'Sexo': 'Masculino'}"
      ]
     },
     "execution_count": 12,
     "metadata": {},
     "output_type": "execute_result"
    }
   ],
   "source": [
    "\n",
    "dni=int(dni.replace(\"'\", \"\"))\n",
    "df=pd.read_csv(\"evaluacion_escalada.csv\")\n",
    "df[\"Marca temporal\"]=pd.to_datetime(df[\"Marca temporal\"], format=\"%d/%m/%Y %H:%M:%S\")\n",
    "df=df[df[\"DNI\"].isin([dni])]\n",
    "values= df.to_dict(orient='records')[0]"
   ]
  },
  {
   "cell_type": "code",
   "execution_count": 16,
   "metadata": {},
   "outputs": [
    {
     "data": {
      "text/plain": [
       "{'Marca temporal': '2023-09-23 17:27:56',\n",
       " 'Dirección de correo electrónico': 'cirigliano.santiago@gmail.com',\n",
       " 'DNI': 36946123,\n",
       " 'Nombre': 'Santiago',\n",
       " 'Apellido': 'Cirigliano',\n",
       " 'Fecha de Nacimiento': '11/11/1992',\n",
       " 'Altura en cm': 173,\n",
       " 'Estilo preferido': 'Deportiva',\n",
       " 'Grado IRCRA a vista': '6b',\n",
       " 'Grado IRCRA ensayado': '7a',\n",
       " 'Sexo': 'Masculino',\n",
       " 'Dominada maxima (% peso corporal)': 80}"
      ]
     },
     "execution_count": 16,
     "metadata": {},
     "output_type": "execute_result"
    }
   ],
   "source": [
    "# Diccionario original\n",
    "diccionario = {\n",
    "    'Marca temporal': '2023-09-23 17:27:56',\n",
    "    'Dirección de correo electrónico': 'cirigliano.santiago@gmail.com',\n",
    "    'DNI': 36946123,\n",
    "    'Nombre': 'Santiago',\n",
    "    'Apellido': 'Cirigliano',\n",
    "    'Fecha de Nacimiento': '11/11/1992',\n",
    "    'Altura en cm': 173,\n",
    "    'Estilo preferido': 'Deportiva',\n",
    "    'Grado IRCRA a vista': '6b',\n",
    "    'Grado IRCRA ensayado': '7a',\n",
    "    'Dominada maxima (kg incluyendo peso corporal)': 80,\n",
    "    'Sexo': 'Masculino'\n",
    "}\n",
    "\n",
    "# Clave a renombrar y nueva clave\n",
    "clave_a_renombrar = 'Dominada maxima (kg incluyendo peso corporal)'\n",
    "nueva_clave = 'Dominada maxima (% peso corporal)'\n",
    "\n",
    "# Conservar el valor mientras se renombra la clave\n",
    "valor = diccionario.pop(clave_a_renombrar, None)\n",
    "diccionario[nueva_clave] = valor\n",
    "\n",
    "diccionario\n"
   ]
  },
  {
   "cell_type": "code",
   "execution_count": 2,
   "metadata": {},
   "outputs": [],
   "source": [
    "dni='36946123'\n",
    "dni=int(dni.replace(\"'\", \"\"))\n",
    "df=pd.read_csv(\"evaluacion_escalada.csv\")\n",
    "df[\"Marca temporal\"]=pd.to_datetime(df[\"Marca temporal\"], format=\"%d/%m/%Y %H:%M:%S\")\n",
    "df=df[df[\"DNI\"].isin([dni])]\n",
    "values= df.to_dict(orient='records')[0]"
   ]
  },
  {
   "cell_type": "code",
   "execution_count": 9,
   "metadata": {},
   "outputs": [],
   "source": [
    "#Takes the dictionary with the values of the new analysis and adds the variables taken from tindeq\n",
    "values={**values,**{'id_evaluacion':\"\",'fuerza máxima (% peso)':\"\",'rfd (% peso/s)':\"\",'peso (kg)':\"\",'cfd (% peso)':\"\"}}"
   ]
  },
  {
   "cell_type": "code",
   "execution_count": 10,
   "metadata": {},
   "outputs": [
    {
     "data": {
      "text/plain": [
       "{'Marca temporal': Timestamp('2023-09-23 17:27:56'),\n",
       " 'Dirección de correo electrónico': 'cirigliano.santiago@gmail.com',\n",
       " 'DNI': 36946123,\n",
       " 'Nombre': 'Santiago',\n",
       " 'Apellido': 'Cirigliano',\n",
       " 'Fecha de Nacimiento': '11/11/1992',\n",
       " 'Altura en cm': 173,\n",
       " 'Estilo preferido': 'Deportiva',\n",
       " 'Grado IRCRA a vista': '6b',\n",
       " 'Grado IRCRA ensayado': '7a',\n",
       " 'Dominada maxima (kg incluyendo peso corporal)': 80,\n",
       " 'Sexo': 'Masculino',\n",
       " 'id_evaluacion': '',\n",
       " 'fuerza máxima (% peso)': '',\n",
       " 'rfd (% peso/s)': '',\n",
       " 'peso (kg)': '',\n",
       " 'cfd (% peso)': ''}"
      ]
     },
     "execution_count": 10,
     "metadata": {},
     "output_type": "execute_result"
    }
   ],
   "source": [
    "values"
   ]
  },
  {
   "cell_type": "code",
   "execution_count": null,
   "metadata": {},
   "outputs": [],
   "source": [
    "\n",
    "#Creates a .csv if it does not exist yet\n",
    "if not os.path.isfile(\"dataset.csv\"):\n",
    "    df = pd.DataFrame({key: [] for key in self.values})\n",
    "\n",
    "#Lee el csv y agrega una nueva fila con los datos clave del escalador y la evaluacion\n",
    "df=pd.read_csv(\"dataset.csv\")\n",
    "if not df.empty:\n",
    "    id_evaluacion = df['id_evaluacion'].max() + 1\n",
    "else:\n",
    "    id_evaluacion = 1\n",
    "\n",
    "nueva_fila=self.values\n",
    "\n",
    "df = df.append(nueva_fila, ignore_index=True)"
   ]
  },
  {
   "cell_type": "code",
   "execution_count": 1,
   "metadata": {},
   "outputs": [],
   "source": [
    "\n",
    "values={'Marca temporal': '28/09/2023 18:51:08', 'Dirección de correo electrónico': 'cirigliano.santiago@gmail.com', 'DNI': 36946123, 'Nombre': 'Santiago', 'Apellido': 'Cirigliano', 'Fecha de Nacimiento': '11/11/1992', 'Altura en cm': 173, 'Estilo preferido': 'Deportiva', 'Grado IRCRA a vista': '7a', 'Grado IRCRA ensayado': '7b', 'Sexo': 'Masculino', 'Años Escalando': 8.0, 'Mano hábil': 'Derecha', 'Dominada maxima (% peso corporal)': 6.44}\n",
    "exercise_mvc_dicc={'rot-ext-der': 19.36066706975301, 'flex-dedo-der': 11.607205708821612, 'rot-int-der': 7.937339019775391, 'rot-int-izq': 10.055900764465331, 'rot-ext-izq': 16.62792094548543, 'flex-dedo-izq': 15.239914735158283}"
   ]
  },
  {
   "cell_type": "code",
   "execution_count": 2,
   "metadata": {},
   "outputs": [
    {
     "data": {
      "text/plain": [
       "{'Marca temporal': '28/09/2023 18:51:08',\n",
       " 'Dirección de correo electrónico': 'cirigliano.santiago@gmail.com',\n",
       " 'DNI': 36946123,\n",
       " 'Nombre': 'Santiago',\n",
       " 'Apellido': 'Cirigliano',\n",
       " 'Fecha de Nacimiento': '11/11/1992',\n",
       " 'Altura en cm': 173,\n",
       " 'Estilo preferido': 'Deportiva',\n",
       " 'Grado IRCRA a vista': '7a',\n",
       " 'Grado IRCRA ensayado': '7b',\n",
       " 'Sexo': 'Masculino',\n",
       " 'Años Escalando': 8.0,\n",
       " 'Mano hábil': 'Derecha',\n",
       " 'Dominada maxima (% peso corporal)': 6.44}"
      ]
     },
     "execution_count": 2,
     "metadata": {},
     "output_type": "execute_result"
    }
   ],
   "source": [
    "values"
   ]
  },
  {
   "cell_type": "code",
   "execution_count": 3,
   "metadata": {},
   "outputs": [
    {
     "data": {
      "text/plain": [
       "{'rot-ext-der': 19.36066706975301,\n",
       " 'flex-dedo-der': 11.607205708821612,\n",
       " 'rot-int-der': 7.937339019775391,\n",
       " 'rot-int-izq': 10.055900764465331,\n",
       " 'rot-ext-izq': 16.62792094548543,\n",
       " 'flex-dedo-izq': 15.239914735158283}"
      ]
     },
     "execution_count": 3,
     "metadata": {},
     "output_type": "execute_result"
    }
   ],
   "source": [
    "for exercise_mvc_dicc"
   ]
  },
  {
   "cell_type": "code",
   "execution_count": 5,
   "metadata": {},
   "outputs": [
    {
     "data": {
      "text/html": [
       "<div>\n",
       "<style scoped>\n",
       "    .dataframe tbody tr th:only-of-type {\n",
       "        vertical-align: middle;\n",
       "    }\n",
       "\n",
       "    .dataframe tbody tr th {\n",
       "        vertical-align: top;\n",
       "    }\n",
       "\n",
       "    .dataframe thead th {\n",
       "        text-align: right;\n",
       "    }\n",
       "</style>\n",
       "<table border=\"1\" class=\"dataframe\">\n",
       "  <thead>\n",
       "    <tr style=\"text-align: right;\">\n",
       "      <th></th>\n",
       "      <th>Unnamed: 0</th>\n",
       "      <th>id_evaluacion</th>\n",
       "      <th>Marca temporal</th>\n",
       "      <th>Dirección de correo electrónico</th>\n",
       "      <th>DNI</th>\n",
       "      <th>Nombre</th>\n",
       "      <th>Apellido</th>\n",
       "      <th>Fecha de Nacimiento</th>\n",
       "      <th>Altura en cm</th>\n",
       "      <th>Estilo preferido</th>\n",
       "      <th>...</th>\n",
       "      <th>Dominada maxima (% peso corporal)</th>\n",
       "      <th>rot-ext-der</th>\n",
       "      <th>flex-dedo-der</th>\n",
       "      <th>rot-int-der</th>\n",
       "      <th>rot-int-izq</th>\n",
       "      <th>rot-ext-izq</th>\n",
       "      <th>flex-dedo-izq</th>\n",
       "      <th>rfd (% peso/s)</th>\n",
       "      <th>peso (kg)</th>\n",
       "      <th>cfd (% peso)</th>\n",
       "    </tr>\n",
       "  </thead>\n",
       "  <tbody>\n",
       "    <tr>\n",
       "      <th>0</th>\n",
       "      <td>0</td>\n",
       "      <td>1.0</td>\n",
       "      <td>28/09/2023 18:51:08</td>\n",
       "      <td>cirigliano.santiago@gmail.com</td>\n",
       "      <td>36946123.0</td>\n",
       "      <td>Santiago</td>\n",
       "      <td>Cirigliano</td>\n",
       "      <td>11/11/1992</td>\n",
       "      <td>173.0</td>\n",
       "      <td>Deportiva</td>\n",
       "      <td>...</td>\n",
       "      <td>76.303</td>\n",
       "      <td>229.392</td>\n",
       "      <td>137.526</td>\n",
       "      <td>94.044</td>\n",
       "      <td>119.146</td>\n",
       "      <td>197.013</td>\n",
       "      <td>180.568</td>\n",
       "      <td>105.331754</td>\n",
       "      <td>8.44</td>\n",
       "      <td>90.877409</td>\n",
       "    </tr>\n",
       "    <tr>\n",
       "      <th>1</th>\n",
       "      <td>0</td>\n",
       "      <td>2.0</td>\n",
       "      <td>28/09/2023 18:51:08</td>\n",
       "      <td>cirigliano.santiago@gmail.com</td>\n",
       "      <td>36946123.0</td>\n",
       "      <td>Santiago</td>\n",
       "      <td>Cirigliano</td>\n",
       "      <td>11/11/1992</td>\n",
       "      <td>173.0</td>\n",
       "      <td>Deportiva</td>\n",
       "      <td>...</td>\n",
       "      <td>76.303</td>\n",
       "      <td>229.392</td>\n",
       "      <td>137.526</td>\n",
       "      <td>94.044</td>\n",
       "      <td>119.146</td>\n",
       "      <td>197.013</td>\n",
       "      <td>180.568</td>\n",
       "      <td>105.331754</td>\n",
       "      <td>8.44</td>\n",
       "      <td>90.877409</td>\n",
       "    </tr>\n",
       "  </tbody>\n",
       "</table>\n",
       "<p>2 rows × 25 columns</p>\n",
       "</div>"
      ],
      "text/plain": [
       "   Unnamed: 0  id_evaluacion       Marca temporal  \\\n",
       "0           0            1.0  28/09/2023 18:51:08   \n",
       "1           0            2.0  28/09/2023 18:51:08   \n",
       "\n",
       "  Dirección de correo electrónico         DNI    Nombre    Apellido  \\\n",
       "0   cirigliano.santiago@gmail.com  36946123.0  Santiago  Cirigliano   \n",
       "1   cirigliano.santiago@gmail.com  36946123.0  Santiago  Cirigliano   \n",
       "\n",
       "  Fecha de Nacimiento  Altura en cm Estilo preferido  ...  \\\n",
       "0          11/11/1992         173.0        Deportiva  ...   \n",
       "1          11/11/1992         173.0        Deportiva  ...   \n",
       "\n",
       "  Dominada maxima (% peso corporal) rot-ext-der flex-dedo-der  rot-int-der  \\\n",
       "0                            76.303     229.392       137.526       94.044   \n",
       "1                            76.303     229.392       137.526       94.044   \n",
       "\n",
       "  rot-int-izq  rot-ext-izq  flex-dedo-izq  rfd (% peso/s)  peso (kg)  \\\n",
       "0     119.146      197.013        180.568      105.331754       8.44   \n",
       "1     119.146      197.013        180.568      105.331754       8.44   \n",
       "\n",
       "   cfd (% peso)  \n",
       "0     90.877409  \n",
       "1     90.877409  \n",
       "\n",
       "[2 rows x 25 columns]"
      ]
     },
     "execution_count": 5,
     "metadata": {},
     "output_type": "execute_result"
    }
   ],
   "source": [
    "#Read de dataset.csv\n",
    "import pandas as pd\n",
    "df=pd.read_csv(\"dataset.csv\")\n",
    "df"
   ]
  },
  {
   "cell_type": "code",
   "execution_count": null,
   "metadata": {},
   "outputs": [],
   "source": []
  }
 ],
 "metadata": {
  "kernelspec": {
   "display_name": "tindeq_env",
   "language": "python",
   "name": "python3"
  },
  "language_info": {
   "codemirror_mode": {
    "name": "ipython",
    "version": 3
   },
   "file_extension": ".py",
   "mimetype": "text/x-python",
   "name": "python",
   "nbconvert_exporter": "python",
   "pygments_lexer": "ipython3",
   "version": "3.9.7"
  },
  "orig_nbformat": 4
 },
 "nbformat": 4,
 "nbformat_minor": 2
}
